{
 "cells": [
  {
   "cell_type": "markdown",
   "metadata": {},
   "source": [
    "Version 2: Predict the percentage change interval of next day"
   ]
  },
  {
   "cell_type": "markdown",
   "metadata": {},
   "source": [
    "### 1. Preparation"
   ]
  },
  {
   "cell_type": "code",
   "execution_count": 369,
   "metadata": {},
   "outputs": [],
   "source": [
    "import os\n",
    "import numpy as np\n",
    "import pandas as pd\n",
    "import matplotlib.pyplot as plt\n",
    "import yfinance as yf\n",
    "\n",
    "import torch\n",
    "import torch.nn as nn\n",
    "import torch.nn.functional as F\n",
    "import torch.optim as optim\n",
    "\n",
    "import time\n",
    "import random"
   ]
  },
  {
   "cell_type": "code",
   "execution_count": 370,
   "metadata": {},
   "outputs": [],
   "source": [
    "def setup_seed(seed):\n",
    "    torch.manual_seed(seed)\n",
    "    torch.cuda.manual_seed_all(seed)\n",
    "    np.random.seed(seed)\n",
    "    torch.backends.cudnn.deterministic = True\n",
    "\n",
    "setup_seed(42)"
   ]
  },
  {
   "cell_type": "markdown",
   "metadata": {},
   "source": [
    "### 2. Data Loading & Preprocessing"
   ]
  },
  {
   "cell_type": "markdown",
   "metadata": {},
   "source": [
    "**Helper Functions**"
   ]
  },
  {
   "cell_type": "code",
   "execution_count": 371,
   "metadata": {},
   "outputs": [],
   "source": [
    "def load_from_yf(ticker, period=\"10y\", interval=\"1d\"):\n",
    "    df: pd.DataFrame = yf.Ticker(ticker).history(period=period, interval=interval)\n",
    "    return df[[\"Open\", \"High\", \"Low\", \"Close\"]], df[[\"Volume\"]]"
   ]
  },
  {
   "cell_type": "code",
   "execution_count": 372,
   "metadata": {},
   "outputs": [],
   "source": [
    "def normalized(df):\n",
    "    return (df - df.mean()) / df.std()\n",
    "\n",
    "def denormalized(df, value):\n",
    "    return value * df.std() + df.mean()"
   ]
  },
  {
   "cell_type": "markdown",
   "metadata": {},
   "source": [
    "**Input Data**"
   ]
  },
  {
   "cell_type": "code",
   "execution_count": 373,
   "metadata": {},
   "outputs": [
    {
     "name": "stdout",
     "output_type": "stream",
     "text": [
      "[[-1.74795281 -1.74527011 -1.753819   -1.75512962 -1.09096267]\n",
      " [-1.74409011 -1.7551401  -1.75545843 -1.75168792 -1.15969677]\n",
      " [-1.75619725 -1.76285474 -1.77348639 -1.78299409 -1.07921187]\n",
      " ...\n",
      " [ 2.13571844  2.136147    2.13132584  2.1383959  -0.32857755]\n",
      " [ 2.12897885  2.11578523  2.13200411  2.1149337  -0.62151037]\n",
      " [ 2.08121104  2.08591425  2.09512836  2.07684145 -0.57260418]] \n",
      "\n",
      "Open     1045.514409\n",
      "High     1068.953239\n",
      "Low      1020.678726\n",
      "Close    1046.699678\n",
      "dtype: float64 \n",
      "\n"
     ]
    }
   ],
   "source": [
    "price, vol = load_from_yf(\"TSLA\")\n",
    "\n",
    "n_price = normalized(np.log(price))\n",
    "n_vol = normalized(vol)\n",
    "\n",
    "data = np.concatenate([n_price, n_vol], axis=1)\n",
    "print(data, \"\\n\")\n",
    "print(np.exp(denormalized(np.log(price), 2.13067623)), \"\\n\")"
   ]
  },
  {
   "cell_type": "markdown",
   "metadata": {},
   "source": [
    "**Label Data**"
   ]
  },
  {
   "cell_type": "code",
   "execution_count": 374,
   "metadata": {},
   "outputs": [
    {
     "name": "stdout",
     "output_type": "stream",
     "text": [
      "[0.24395054] [-0.21062826]\n",
      "{0: 69, 1: 114, 2: 283, 3: 674, 4: 697, 5: 335, 6: 118, 7: 107}\n"
     ]
    },
    {
     "data": {
      "image/png": "[encoded data removed]",
      "text/plain": [
       "<Figure size 1296x216 with 1 Axes>"
      ]
     },
     "metadata": {
      "needs_background": "light"
     },
     "output_type": "display_data"
    }
   ],
   "source": [
    "close = price[[\"Close\"]].to_numpy()\n",
    "\n",
    "change = []\n",
    "for i in range(len(close)):\n",
    "    change.append(0 if (i==0) else (close[i]-close[i-1])/close[i-1])\n",
    "    \n",
    "print(max(change), min(change))\n",
    "\n",
    "label = []\n",
    "for i in range(len(close)):\n",
    "    if change[i] <= -0.06:   cat = 0\n",
    "    elif change[i] <= -0.04: cat = 1\n",
    "    elif change[i] <= -0.02: cat = 2\n",
    "    elif change[i] <= 0:     cat = 3\n",
    "    elif change[i] <= 0.02:  cat = 4\n",
    "    elif change[i] <= 0.04:  cat = 5\n",
    "    elif change[i] <= 0.06:  cat = 6\n",
    "    elif change[i] >  0.06:  cat = 7\n",
    "    label.append(cat)\n",
    "\n",
    "unique, counts = np.unique(label[120:], return_counts=True) \n",
    "print(dict(zip(unique, counts)))\n",
    "\n",
    "plt.figure(figsize=(18,3))\n",
    "plt.scatter(range(1000), label[:1000], s=1)\n",
    "plt.show()"
   ]
  },
  {
   "cell_type": "markdown",
   "metadata": {},
   "source": [
    "### 3. Model"
   ]
  },
  {
   "cell_type": "code",
   "execution_count": 375,
   "metadata": {},
   "outputs": [],
   "source": [
    "class FCNet(nn.Module):\n",
    "    def __init__(self):\n",
    "        super(FCNet, self).__init__() # 120\n",
    "        self.fc1 = nn.Linear(in_features=600, out_features=1000)\n",
    "        self.fc2 = nn.Linear(in_features=1000, out_features=1000)\n",
    "        self.fc3 = nn.Linear(in_features=1000, out_features=8)\n",
    "        self.softmax = nn.Softmax(dim=1)\n",
    "\n",
    "    def forward(self, input):\n",
    "        input = nn.Flatten()(input)\n",
    "        x = F.relu(self.fc1(input))\n",
    "        x = F.relu(self.fc2(x))\n",
    "        x = F.relu(self.fc3(x))\n",
    "        x = self.softmax(x)\n",
    "        return x"
   ]
  },
  {
   "cell_type": "code",
   "execution_count": 376,
   "metadata": {},
   "outputs": [],
   "source": [
    "class LeNet(nn.Module):\n",
    "    def __init__(self):\n",
    "        super(LeNet, self).__init__() # 120\n",
    "        self.conv1 = nn.Conv1d(in_channels=5, out_channels=64, kernel_size=5) # 116\n",
    "        self.maxp1 = nn.MaxPool1d(kernel_size=2, stride=2) # 58\n",
    "        self.conv2 = nn.Conv1d(in_channels=64, out_channels=64, kernel_size=5) # 54\n",
    "        self.maxp2 = nn.MaxPool1d(kernel_size=2, stride=2) # 27\n",
    "        self.conv3 = nn.Conv1d(in_channels=64, out_channels=20, kernel_size=5) # 23\n",
    "        self.flatten = nn.Flatten()\n",
    "        self.relu1 = nn.ReLU()\n",
    "        self.fc1 = nn.Linear(in_features=460, out_features=20)\n",
    "        self.relu2 = nn.ReLU()\n",
    "        self.fc2 = nn.Linear(in_features=20, out_features=8)\n",
    "        self.softmax = nn.Softmax(dim=1)\n",
    "\n",
    "    def forward(self, input):\n",
    "        x = self.maxp1(self.conv1(input))\n",
    "        x = self.maxp2(self.conv2(x))\n",
    "        x = self.flatten(self.conv3(x))\n",
    "        x = self.fc1(self.relu1(x))\n",
    "        x = self.fc2(self.relu2(x))\n",
    "        x = self.softmax(x)\n",
    "        return x"
   ]
  },
  {
   "cell_type": "code",
   "execution_count": 377,
   "metadata": {},
   "outputs": [],
   "source": [
    "net = FCNet()\n",
    "\n",
    "criterion = nn.CrossEntropyLoss()\n",
    "optimizer = optim.Adam(net.parameters())"
   ]
  },
  {
   "cell_type": "markdown",
   "metadata": {},
   "source": [
    "**Training**"
   ]
  },
  {
   "cell_type": "code",
   "execution_count": 378,
   "metadata": {},
   "outputs": [
    {
     "name": "stdout",
     "output_type": "stream",
     "text": [
      "Epoch  1 | Train loss: 4158.88 | Train acc:  2.70%| Test avg loss:  623.83 | Test acc:  3.33% | 20.57s\n",
      "Epoch  2 | Train loss: 4158.88 | Train acc:  2.70%| Test avg loss:  623.83 | Test acc:  3.33% | 19.66s\n",
      "Epoch  3 | Train loss: 4158.88 | Train acc:  2.70%| Test avg loss:  623.83 | Test acc:  3.33% | 20.88s\n"
     ]
    },
    {
     "ename": "KeyboardInterrupt",
     "evalue": "",
     "output_type": "error",
     "traceback": [
      "\u001b[0;31m---------------------------------------------------------------------------\u001b[0m",
      "\u001b[0;31mKeyboardInterrupt\u001b[0m                         Traceback (most recent call last)",
      "\u001b[0;32m/var/folders/t4/wd9y25w92q9g1cjxmkx08vpm0000gp/T/ipykernel_23638/714296245.py\u001b[0m in \u001b[0;36m<module>\u001b[0;34m\u001b[0m\n\u001b[1;32m     13\u001b[0m         \u001b[0moutput\u001b[0m \u001b[0;34m=\u001b[0m \u001b[0mnet\u001b[0m\u001b[0;34m(\u001b[0m\u001b[0minput\u001b[0m\u001b[0;34m)\u001b[0m\u001b[0;34m\u001b[0m\u001b[0;34m\u001b[0m\u001b[0m\n\u001b[1;32m     14\u001b[0m         \u001b[0mloss\u001b[0m \u001b[0;34m=\u001b[0m \u001b[0mcriterion\u001b[0m\u001b[0;34m(\u001b[0m\u001b[0moutput\u001b[0m\u001b[0;34m,\u001b[0m \u001b[0mtarget\u001b[0m\u001b[0;34m)\u001b[0m\u001b[0;34m\u001b[0m\u001b[0;34m\u001b[0m\u001b[0m\n\u001b[0;32m---> 15\u001b[0;31m         \u001b[0mloss\u001b[0m\u001b[0;34m.\u001b[0m\u001b[0mbackward\u001b[0m\u001b[0;34m(\u001b[0m\u001b[0;34m)\u001b[0m\u001b[0;34m\u001b[0m\u001b[0;34m\u001b[0m\u001b[0m\n\u001b[0m\u001b[1;32m     16\u001b[0m         \u001b[0moptimizer\u001b[0m\u001b[0;34m.\u001b[0m\u001b[0mstep\u001b[0m\u001b[0;34m(\u001b[0m\u001b[0;34m)\u001b[0m\u001b[0;34m\u001b[0m\u001b[0;34m\u001b[0m\u001b[0m\n\u001b[1;32m     17\u001b[0m     \u001b[0mtrainlosslist\u001b[0m\u001b[0;34m.\u001b[0m\u001b[0mappend\u001b[0m\u001b[0;34m(\u001b[0m\u001b[0mtrainloss\u001b[0m\u001b[0;34m)\u001b[0m\u001b[0;34m\u001b[0m\u001b[0;34m\u001b[0m\u001b[0m\n",
      "\u001b[0;32m/Library/Frameworks/Python.framework/Versions/3.9/lib/python3.9/site-packages/torch/_tensor.py\u001b[0m in \u001b[0;36mbackward\u001b[0;34m(self, gradient, retain_graph, create_graph, inputs)\u001b[0m\n\u001b[1;32m    305\u001b[0m                 \u001b[0mcreate_graph\u001b[0m\u001b[0;34m=\u001b[0m\u001b[0mcreate_graph\u001b[0m\u001b[0;34m,\u001b[0m\u001b[0;34m\u001b[0m\u001b[0;34m\u001b[0m\u001b[0m\n\u001b[1;32m    306\u001b[0m                 inputs=inputs)\n\u001b[0;32m--> 307\u001b[0;31m         \u001b[0mtorch\u001b[0m\u001b[0;34m.\u001b[0m\u001b[0mautograd\u001b[0m\u001b[0;34m.\u001b[0m\u001b[0mbackward\u001b[0m\u001b[0;34m(\u001b[0m\u001b[0mself\u001b[0m\u001b[0;34m,\u001b[0m \u001b[0mgradient\u001b[0m\u001b[0;34m,\u001b[0m \u001b[0mretain_graph\u001b[0m\u001b[0;34m,\u001b[0m \u001b[0mcreate_graph\u001b[0m\u001b[0;34m,\u001b[0m \u001b[0minputs\u001b[0m\u001b[0;34m=\u001b[0m\u001b[0minputs\u001b[0m\u001b[0;34m)\u001b[0m\u001b[0;34m\u001b[0m\u001b[0;34m\u001b[0m\u001b[0m\n\u001b[0m\u001b[1;32m    308\u001b[0m \u001b[0;34m\u001b[0m\u001b[0m\n\u001b[1;32m    309\u001b[0m     \u001b[0;32mdef\u001b[0m \u001b[0mregister_hook\u001b[0m\u001b[0;34m(\u001b[0m\u001b[0mself\u001b[0m\u001b[0;34m,\u001b[0m \u001b[0mhook\u001b[0m\u001b[0;34m)\u001b[0m\u001b[0;34m:\u001b[0m\u001b[0;34m\u001b[0m\u001b[0;34m\u001b[0m\u001b[0m\n",
      "\u001b[0;32m/Library/Frameworks/Python.framework/Versions/3.9/lib/python3.9/site-packages/torch/autograd/__init__.py\u001b[0m in \u001b[0;36mbackward\u001b[0;34m(tensors, grad_tensors, retain_graph, create_graph, grad_variables, inputs)\u001b[0m\n\u001b[1;32m    152\u001b[0m         \u001b[0mretain_graph\u001b[0m \u001b[0;34m=\u001b[0m \u001b[0mcreate_graph\u001b[0m\u001b[0;34m\u001b[0m\u001b[0;34m\u001b[0m\u001b[0m\n\u001b[1;32m    153\u001b[0m \u001b[0;34m\u001b[0m\u001b[0m\n\u001b[0;32m--> 154\u001b[0;31m     Variable._execution_engine.run_backward(\n\u001b[0m\u001b[1;32m    155\u001b[0m         \u001b[0mtensors\u001b[0m\u001b[0;34m,\u001b[0m \u001b[0mgrad_tensors_\u001b[0m\u001b[0;34m,\u001b[0m \u001b[0mretain_graph\u001b[0m\u001b[0;34m,\u001b[0m \u001b[0mcreate_graph\u001b[0m\u001b[0;34m,\u001b[0m \u001b[0minputs\u001b[0m\u001b[0;34m,\u001b[0m\u001b[0;34m\u001b[0m\u001b[0;34m\u001b[0m\u001b[0m\n\u001b[1;32m    156\u001b[0m         allow_unreachable=True, accumulate_grad=True)  # allow_unreachable flag\n",
      "\u001b[0;31mKeyboardInterrupt\u001b[0m: "
     ]
    }
   ],
   "source": [
    "trainlosslist = []\n",
    "testlosslist = []\n",
    "for epoch in range(10):\n",
    "    epochstart = time.time()\n",
    "\n",
    "    trainloss = 0\n",
    "    for i in range(2000):\n",
    "        step_start = time.time()\n",
    "        optimizer.zero_grad()\n",
    "\n",
    "        input = torch.tensor([data[i:i+120]]).float().permute(0,2,1)\n",
    "        target = torch.tensor([label[i+120]])\n",
    "        output = net(input)\n",
    "        loss = criterion(output, target)\n",
    "        loss.backward()\n",
    "        optimizer.step()\n",
    "    trainlosslist.append(trainloss)\n",
    "\n",
    "    trainloss = 0\n",
    "    traincorrect = 0\n",
    "    with torch.no_grad():\n",
    "        for i in range(2000):\n",
    "            input = torch.tensor([data[i:i+120]]).float().permute(0,2,1)\n",
    "            target = torch.tensor([label[i+120]])\n",
    "            output = net(input)\n",
    "            loss = criterion(output, target)\n",
    "            trainloss += loss.item()\n",
    "\n",
    "            _, predicted = torch.max(output.data, 1)\n",
    "            traincorrect += (predicted == target).sum().item()\n",
    "    \n",
    "    testloss = 0\n",
    "    testcorrect = 0\n",
    "    with torch.no_grad():\n",
    "        for i in range(2000, 2300):\n",
    "            input = torch.tensor([data[i:i+120]]).float().permute(0,2,1)\n",
    "            target = torch.tensor([label[i+120]])\n",
    "            output = net(input)\n",
    "            loss = criterion(output, target)\n",
    "            testloss += loss.item()\n",
    "            \n",
    "            _, predicted = torch.max(output.data, 1)\n",
    "            testcorrect += (predicted == target).sum().item()\n",
    "    testlosslist.append(testloss)\n",
    "\n",
    "    epochtime = time.time() - epochstart\n",
    "    print(f\"Epoch {epoch+1:2d} | Train loss: {(trainloss):7.2f} | Train acc: {(traincorrect/20):5.2f}%\"\n",
    "                             f\"| Test avg loss: {(testloss):7.2f} | Test acc: {(testcorrect/3):5.2f}% | {epochtime:.2f}s\")"
   ]
  },
  {
   "cell_type": "markdown",
   "metadata": {},
   "source": [
    "### 4. Evaluation"
   ]
  },
  {
   "cell_type": "code",
   "execution_count": null,
   "metadata": {},
   "outputs": [
    {
     "ename": "IndentationError",
     "evalue": "expected an indented block (1602265435.py, line 3)",
     "output_type": "error",
     "traceback": [
      "\u001b[0;36m  File \u001b[0;32m\"/var/folders/t4/wd9y25w92q9g1cjxmkx08vpm0000gp/T/ipykernel_23638/1602265435.py\"\u001b[0;36m, line \u001b[0;32m3\u001b[0m\n\u001b[0;31m    with torch.no_grad():\u001b[0m\n\u001b[0m                         ^\u001b[0m\n\u001b[0;31mIndentationError\u001b[0m\u001b[0;31m:\u001b[0m expected an indented block\n"
     ]
    }
   ],
   "source": [
    "\n"
   ]
  }
 ],
 "metadata": {
  "interpreter": {
   "hash": "aee8b7b246df8f9039afb4144a1f6fd8d2ca17a180786b69acc140d282b71a49"
  },
  "kernelspec": {
   "display_name": "Python 3.9.0 64-bit",
   "language": "python",
   "name": "python3"
  },
  "language_info": {
   "codemirror_mode": {
    "name": "ipython",
    "version": 3
   },
   "file_extension": ".py",
   "mimetype": "text/x-python",
   "name": "python",
   "nbconvert_exporter": "python",
   "pygments_lexer": "ipython3",
   "version": "3.9.0"
  },
  "orig_nbformat": 4
 },
 "nbformat": 4,
 "nbformat_minor": 2
}
