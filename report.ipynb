{
 "cells": [
  {
   "cell_type": "markdown",
   "metadata": {},
   "source": [
    "### 1. Preparation"
   ]
  },
  {
   "cell_type": "code",
   "execution_count": 1,
   "metadata": {},
   "outputs": [],
   "source": [
    "import os\n",
    "import numpy as np\n",
    "import pandas as pd\n",
    "import matplotlib.pyplot as plt\n",
    "import seaborn as sb\n",
    "import yfinance as yf\n",
    "\n",
    "import torch\n",
    "import torch.nn as nn\n",
    "import torch.nn.functional as F\n",
    "import torch.optim as optim\n",
    "\n",
    "from torchsummary import summary\n",
    "from sklearn.metrics import confusion_matrix, f1_score, roc_curve\n",
    "\n",
    "import time\n",
    "import random\n",
    "import copy"
   ]
  },
  {
   "cell_type": "code",
   "execution_count": 2,
   "metadata": {},
   "outputs": [],
   "source": [
    "def setup_seed(seed):\n",
    "    torch.manual_seed(seed)\n",
    "    torch.cuda.manual_seed_all(seed)\n",
    "    np.random.seed(seed)\n",
    "    torch.backends.cudnn.deterministic = True\n",
    "\n",
    "setup_seed(42)"
   ]
  },
  {
   "cell_type": "markdown",
   "metadata": {},
   "source": [
    "### 2. Data Processing"
   ]
  },
  {
   "cell_type": "code",
   "execution_count": 3,
   "metadata": {},
   "outputs": [],
   "source": [
    "def load_yf(ticker, period=\"10y\", interval=\"1d\"):\n",
    "    df: pd.DataFrame = yf.Ticker(ticker).history(period=period, interval=interval)\n",
    "    return df[[\"Open\", \"High\", \"Low\", \"Close\"]], df[[\"Volume\"]]\n",
    "\n",
    "def normalized(df: pd.DataFrame):\n",
    "    return (df - df.values.mean()) / df.values.std()\n",
    "\n",
    "def load_data(ticker):\n",
    "    price, vol = load_yf(ticker)\n",
    "    #print(\"Data size:\", len(vol))\n",
    "\n",
    "    nl_price = normalized(np.log(price))\n",
    "    n_price = normalized(price)\n",
    "    n_vol = normalized(vol)\n",
    "\n",
    "    data = np.concatenate([nl_price, n_price, n_vol], axis=1)\n",
    "    return data\n",
    "\n",
    "def load_raw(ticker):\n",
    "    price, vol = load_yf(ticker)\n",
    "    data = pd.concat([price, vol], axis=1)\n",
    "    return data\n",
    "\n",
    "def process_raw(raw):\n",
    "    price, vol = raw[[\"Open\", \"High\", \"Low\", \"Close\"]], raw[[\"Volume\"]]\n",
    "\n",
    "    nl_price = normalized(np.log(price))\n",
    "    n_price = normalized(price)\n",
    "    n_vol = normalized(vol)\n",
    "\n",
    "    data = np.concatenate([nl_price, n_price, n_vol], axis=1)\n",
    "    return data\n",
    "\n",
    "def load_label(ticker):\n",
    "    price, _ = load_yf(ticker)\n",
    "    close = price[[\"Close\"]].to_numpy()\n",
    "\n",
    "    change = [0] + [close[i+1]/close[i]-1 for i in range(len(close)-1)]\n",
    "    label = [0 if change[i] <= 0 else 1 for i in range(len(close))]\n",
    "\n",
    "    unique, counts = np.unique(label[120:], return_counts=True) \n",
    "    #print(\"Data ratio: \", dict(zip(unique, counts)))\n",
    "    return label\n",
    "\n",
    "def split_size(ticker):\n",
    "    price, _ = load_yf(ticker)\n",
    "    trainsize = (int) (len(price[120:]) * 0.8)\n",
    "    valsize = (int) (len(price[120:]) * 0.1)\n",
    "    testsize = len(price[120:]) - trainsize - valsize\n",
    "    return trainsize, valsize, testsize"
   ]
  },
  {
   "cell_type": "markdown",
   "metadata": {},
   "source": [
    "### 3. Model"
   ]
  },
  {
   "cell_type": "code",
   "execution_count": 4,
   "metadata": {},
   "outputs": [],
   "source": [
    "class CatNet(nn.Module):\n",
    "    def __init__(self):\n",
    "        super(CatNet, self).__init__()\n",
    "        self.conv11 = nn.Conv1d(in_channels=9, out_channels=20, kernel_size=50 ,stride=10)\n",
    "        self.conv12 = nn.Conv1d(in_channels=20, out_channels=20, kernel_size=2, stride=1)\n",
    "        self.conv13 = nn.Conv1d(in_channels=20, out_channels=10, kernel_size=2, stride=1)\n",
    "\n",
    "        self.conv21 = nn.Conv1d(in_channels=9, out_channels=20, kernel_size=15 ,stride=5)\n",
    "        self.conv22 = nn.Conv1d(in_channels=20, out_channels=20, kernel_size=2, stride=1)\n",
    "        self.conv23 = nn.Conv1d(in_channels=20, out_channels=10, kernel_size=2, stride=1)\n",
    "\n",
    "        self.conv31 = nn.Conv1d(in_channels=9, out_channels=20, kernel_size=5 ,stride=1)\n",
    "        self.conv32 = nn.Conv1d(in_channels=20, out_channels=20, kernel_size=2, stride=1)\n",
    "        self.conv33 = nn.Conv1d(in_channels=20, out_channels=10, kernel_size=2, stride=1)\n",
    "\n",
    "        self.flatten = nn.Flatten()\n",
    "\n",
    "        self.fc1 = nn.Linear(in_features=280, out_features=200)\n",
    "        self.fc2 = nn.Linear(in_features=200, out_features=200)\n",
    "        self.fc3 = nn.Linear(in_features=200, out_features=40)\n",
    "\n",
    "        self.fc4 = nn.Linear(in_features=67, out_features=20)\n",
    "        self.fc5 = nn.Linear(in_features=20, out_features=20)\n",
    "        self.fc6 = nn.Linear(in_features=20, out_features=2)\n",
    "\n",
    "        self.do1 = nn.Dropout()\n",
    "        self.do2 = nn.Dropout()\n",
    "        self.do3 = nn.Dropout()\n",
    "        self.do4 = nn.Dropout()\n",
    "\n",
    "        self.activation = nn.Softmax(dim=1)\n",
    "\n",
    "    def forward(self, input, train=False):\n",
    "\n",
    "        input1 = input\n",
    "        input2 = input[:,:,-60:]\n",
    "        input3 = input[:,:,-20:]\n",
    "        last = input[:,:,-3:]\n",
    "\n",
    "        x1 = self.conv11(input1)\n",
    "        x1 = self.conv12(x1)\n",
    "        x1 = self.conv13(x1)\n",
    "\n",
    "        x2 = self.conv21(input2)\n",
    "        x2 = self.conv22(x2)\n",
    "        x2 = self.conv23(x2)\n",
    "\n",
    "        x3 = self.conv31(input3)\n",
    "        x3 = self.conv32(x3)\n",
    "        x3 = self.conv33(x3)\n",
    "\n",
    "        x1 = self.flatten(x1)\n",
    "        x2 = self.flatten(x2)\n",
    "        x3 = self.flatten(x3)\n",
    "\n",
    "        x = torch.concat((x1, x2, x3), dim=1)\n",
    "\n",
    "        x = self.fc1(F.relu(x))\n",
    "        x = self.fc2(F.relu(x))\n",
    "        x = self.fc3(F.relu(x))\n",
    "\n",
    "        last = self.flatten(last)\n",
    "        x = torch.concat((x, last), dim=1)\n",
    "\n",
    "        x = self.fc4(x)\n",
    "        x = self.fc5(F.relu(x))\n",
    "        x = self.fc6(F.relu(x))\n",
    "\n",
    "        x = self.activation(x)\n",
    "\n",
    "        return x\n",
    "\n",
    "net = CatNet()\n",
    "net.eval()\n",
    "\n",
    "criterion = nn.CrossEntropyLoss()\n",
    "optimizer = optim.Adam(net.parameters())"
   ]
  },
  {
   "cell_type": "code",
   "execution_count": 5,
   "metadata": {},
   "outputs": [],
   "source": [
    "def train(ticker, epochs=50, plot=False):\n",
    "    raw = load_raw(ticker)\n",
    "    data = load_data(ticker)\n",
    "    label = load_label(ticker)\n",
    "    trainsize, valsize, _ = split_size(ticker)\n",
    "\n",
    "    runlosslist, runacclist = [], []\n",
    "    vallosslist, valacclist = [], []\n",
    "\n",
    "    for epoch in range(epochs):\n",
    "        epochstart = time.time()\n",
    "\n",
    "        net.train()\n",
    "        runloss, runcorrect = 0, 0\n",
    "        for i in range(trainsize):\n",
    "            optimizer.zero_grad()\n",
    "\n",
    "            input = torch.tensor([data[i:i+120]]).float().permute(0,2,1)\n",
    "            target = torch.tensor([label[i+120]])\n",
    "\n",
    "            output = net(input)\n",
    "            loss = criterion(output, target)\n",
    "            loss.backward()\n",
    "            optimizer.step()\n",
    "\n",
    "            _, predicted = torch.max(output.data, 1)\n",
    "            runcorrect += (predicted == target).sum().item()\n",
    "            runloss += loss.item()\n",
    "        runacc = runcorrect/trainsize\n",
    "        runacclist.append(runacc)\n",
    "        runlosslist.append(runloss)\n",
    "\n",
    "        net.eval()\n",
    "        valloss, valcorrect = 0, 0\n",
    "        with torch.no_grad():\n",
    "            for i in range(trainsize, trainsize+valsize):\n",
    "                input = torch.tensor([data[i:i+120]]).float().permute(0,2,1)\n",
    "                target = torch.tensor([label[i+120]])\n",
    "\n",
    "                output = net(input)\n",
    "                loss = criterion(output, target)\n",
    "\n",
    "                _, predicted = torch.max(output.data, 1)\n",
    "                valcorrect += (predicted == target).sum().item()\n",
    "                valloss += loss.item()\n",
    "        valacc = valcorrect/valsize\n",
    "        valacclist.append(valacc)\n",
    "        vallosslist.append(valloss)\n",
    "\n",
    "        epochlength = time.time() - epochstart\n",
    "\n",
    "        print(f\"{ticker} | Epoch {epoch+1:2}/{epochs}: Run loss = {runloss:7.2f} | Run acc = {runacc*100:5.2f}% | Val loss = {valloss:7.2f} | Val acc = {valacc*100:2.2f}% | {epochlength:2.1f}s\")\n",
    "\n",
    "    if plot==True: plot_train(ticker=ticker, epochs=epochs, runlosslist=runlosslist, runacclist=runacclist, vallosslist=vallosslist, valacclist=valacclist)\n",
    "\n",
    "    torch.save(net.state_dict(), \"../Report_Record/{ticker}_Model\")"
   ]
  },
  {
   "cell_type": "code",
   "execution_count": 6,
   "metadata": {},
   "outputs": [],
   "source": [
    "def plot_train(ticker, epochs, runlosslist, runacclist, vallosslist, valacclist):\n",
    "    plt.figure(figsize=(18,3))\n",
    "    plt.plot(runlosslist)\n",
    "    plt.xlabel(\"Epochs\")\n",
    "    plt.title(f\"{ticker} {epochs} Running Loss\")\n",
    "    plt.savefig(f\"../Report_Record/{ticker}_RunLoss\")\n",
    "\n",
    "    plt.figure(figsize=(18,3))\n",
    "    plt.plot(vallosslist)\n",
    "    plt.xlabel(\"Epochs\")\n",
    "    plt.title(f\"{ticker} {epochs} Validation Loss\")\n",
    "    plt.savefig(f\"../Report_Record/{ticker}_ValLoss\")\n",
    "\n",
    "    plt.figure(figsize=(18,3))\n",
    "    plt.ylim((0.25, 0.75))\n",
    "    plt.axhline(y = 0.5, color = 'r', linestyle = 'dashed')\n",
    "    plt.plot(runacclist, label=\"Running Accuracy\")\n",
    "    plt.plot(valacclist, label=\"Validation Accuracy\")\n",
    "    plt.xlabel(\"Epochs\")\n",
    "    plt.title(f\"{ticker} {epochs} Accuracy\")\n",
    "    plt.legend(loc=\"upper right\")\n",
    "    plt.savefig(f\"../Report_Record/{ticker}_Accuracy\")"
   ]
  },
  {
   "cell_type": "code",
   "execution_count": 7,
   "metadata": {},
   "outputs": [],
   "source": [
    "def test(ticker, threshold=0.5):\n",
    "    raw = load_raw(ticker)\n",
    "    data = load_data(ticker)\n",
    "    label = load_label(ticker)\n",
    "    _, __, testsize = split_size(ticker)\n",
    "\n",
    "    net.eval()\n",
    "\n",
    "    conflist, predlist  = [], []\n",
    "    confsize, confcorrect = 0, 0\n",
    "    passlabel, passpred = [], []\n",
    "    with torch.no_grad():\n",
    "        for i in range(len(raw[120:]) - testsize, len(raw[120:])):\n",
    "            input = torch.tensor([data[i:i+120]]).float().permute(0,2,1)\n",
    "            target = torch.tensor([label[i+120]])\n",
    "            output = net(input)\n",
    "            _, predicted = torch.max(output.data, 1)\n",
    "\n",
    "            conflist.append(_.item())\n",
    "            predlist.append(predicted.item())\n",
    "\n",
    "            if _.item() >= threshold:\n",
    "                confsize += 1\n",
    "                confcorrect += (predicted == target).sum().item()\n",
    "                passlabel.append(label[i+120])\n",
    "                passpred.append(predicted.item())\n",
    "\n",
    "    testacc = 0 if confsize==0 else confcorrect/confsize\n",
    "\n",
    "    print(f\"Threshold: {threshold:.2f} | Pass = {confsize}/{testsize}\")\n",
    "    print(f\"Test acc = {testacc*100:2.2f}%\")\n",
    "    print(f\"F1 score: {f1_score(passlabel, passpred):.2f}\")\n",
    "\n",
    "    passlabel, passpred = [], []\n",
    "    for i in range(len(predlist)):\n",
    "        if conflist[i] >= threshold:\n",
    "            passlabel.append(label[i+120])\n",
    "            passpred.append(predlist[i])\n",
    "\n",
    "    cm = confusion_matrix(passlabel, passpred)\n",
    "    df_cm = pd.DataFrame(cm, index=[\"true 0\", \"true 1\"], columns=[\"pred 0\", \"pred 1\"])\n",
    "    sb.heatmap(df_cm, annot=True)\n",
    "    plt.savefig(f\"../Record/{ticker}_CM\")\n",
    "\n",
    "    fpr, tpr, _ = roc_curve(label[-testsize:],  conflist)\n",
    "    plt.figure(figsize=(6,6))\n",
    "    plt.plot(fpr,tpr, label=\"ROC Curve\")\n",
    "    plt.plot([0,1], [0,1])\n",
    "    plt.ylabel('True Positive Rate')\n",
    "    plt.xlabel('False Positive Rate')\n",
    "    plt.legend(loc=\"upper right\")\n",
    "    plt.show()\n",
    "\n",
    "    simulate(ticker, predlist=predlist, conflist=conflist, threshold=threshold)\n",
    "    "
   ]
  },
  {
   "cell_type": "code",
   "execution_count": 8,
   "metadata": {},
   "outputs": [],
   "source": [
    "def simulate(ticker, predlist, conflist, threshold):\n",
    "    price, vol = load_yf(ticker)\n",
    "    close = price[[\"Close\"]].to_numpy()\n",
    "    _, __, testsize = split_size(ticker)\n",
    "\n",
    "    stockchangelist = [(close[-testsize+i]/close[-testsize]).item() for i in range(testsize)]\n",
    "\n",
    "    pnl, pnllist = 1, [1]\n",
    "    buytime, buyprice, selltime, sellprice = [], [], [], []\n",
    "    for i in range(testsize-1):\n",
    "        if conflist[i] >= threshold:\n",
    "            if predlist[i] == 1: \n",
    "                buytime.append(i)\n",
    "                buyprice.append(stockchangelist[i])\n",
    "                pnl *= (close[-testsize+i+1].item() / close[-testsize+i].item()) # BUY\n",
    "            else:\n",
    "                selltime.append(i)\n",
    "                sellprice.append(stockchangelist[i])\n",
    "                pnl *= (close[-testsize+i].item() / close[-testsize+i+1].item()) # SELL\n",
    "        pnllist.append(pnl)\n",
    "\n",
    "    plt.figure(figsize=(16,8))\n",
    "    plt.title(f\"{ticker} PnL\")\n",
    "    plt.plot(stockchangelist, label=\"Stock change\")\n",
    "    plt.plot(pnllist, label=\"AI\")\n",
    "    plt.scatter(buytime, buyprice, s=8, c=\"green\")\n",
    "    plt.scatter(selltime, sellprice, s=8, c=\"red\")\n",
    "    plt.legend(loc=\"upper left\")\n",
    "    plt.savefig(f\"../Record/{ticker}_Simulation\")\n",
    "    plt.show()\n",
    "\n",
    "    print(f\"Stock change: {(stockchangelist[-1]-1)*100:.2f}%\")\n",
    "    print(f\"Profit/Loss:  {(pnllist[-1]-1)*100:.2f}%\")\n",
    "\n",
    "    extralist = [pnllist[i]/stockchangelist[i]-1 for i in range(testsize)]\n",
    "\n",
    "    plt.title(f\"{ticker} Extra PnL\")\n",
    "    plt.axhline(y = 0, color = 'r', linestyle = 'dashed')\n",
    "    plt.plot(extralist)\n",
    "    plt.ylim((-2, 2))\n",
    "    plt.savefig(f\"../Record/{ticker}_ExtraPnL\")\n",
    "    plt.show()\n",
    "\n",
    "    print(f\"Net PnL:      {extralist[-1]*100:.2f}%\")"
   ]
  },
  {
   "cell_type": "code",
   "execution_count": 9,
   "metadata": {},
   "outputs": [
    {
     "name": "stderr",
     "output_type": "stream",
     "text": [
      "/var/folders/t4/wd9y25w92q9g1cjxmkx08vpm0000gp/T/ipykernel_32685/528224677.py:18: UserWarning: Creating a tensor from a list of numpy.ndarrays is extremely slow. Please consider converting the list to a single numpy.ndarray with numpy.array() before converting to a tensor. (Triggered internally at  ../torch/csrc/utils/tensor_new.cpp:201.)\n",
      "  input = torch.tensor([data[i:i+120]]).float().permute(0,2,1)\n"
     ]
    },
    {
     "name": "stdout",
     "output_type": "stream",
     "text": [
      "FB | Epoch  1/50: Run loss = 1319.63 | Run acc = 51.45% | Val loss =  163.76 | Val acc = 51.90% | 6.6s\n",
      "FB | Epoch  2/50: Run loss = 1318.14 | Run acc = 52.23% | Val loss =  163.51 | Val acc = 52.74% | 8.0s\n",
      "FB | Epoch  3/50: Run loss = 1317.22 | Run acc = 52.81% | Val loss =  163.13 | Val acc = 56.96% | 7.2s\n",
      "FB | Epoch  4/50: Run loss = 1316.76 | Run acc = 52.97% | Val loss =  163.34 | Val acc = 56.54% | 7.5s\n",
      "FB | Epoch  5/50: Run loss = 1316.78 | Run acc = 53.02% | Val loss =  163.18 | Val acc = 54.85% | 7.4s\n",
      "FB | Epoch  6/50: Run loss = 1315.75 | Run acc = 53.70% | Val loss =  163.12 | Val acc = 60.34% | 6.7s\n",
      "FB | Epoch  7/50: Run loss = 1321.45 | Run acc = 53.70% | Val loss =  163.44 | Val acc = 53.59% | 6.5s\n",
      "FB | Epoch  8/50: Run loss = 1317.25 | Run acc = 53.39% | Val loss =  162.94 | Val acc = 59.07% | 6.4s\n",
      "FB | Epoch  9/50: Run loss = 1315.18 | Run acc = 53.76% | Val loss =  162.61 | Val acc = 58.65% | 7.3s\n",
      "FB | Epoch 10/50: Run loss = 1317.02 | Run acc = 53.39% | Val loss =  163.64 | Val acc = 51.90% | 7.4s\n",
      "FB | Epoch 11/50: Run loss = 1315.49 | Run acc = 54.02% | Val loss =  162.68 | Val acc = 56.96% | 6.7s\n",
      "FB | Epoch 12/50: Run loss = 1314.75 | Run acc = 53.91% | Val loss =  163.45 | Val acc = 53.16% | 6.4s\n",
      "FB | Epoch 13/50: Run loss = 1432.18 | Run acc = 51.13% | Val loss =  162.20 | Val acc = 56.96% | 6.6s\n",
      "FB | Epoch 14/50: Run loss = 1311.53 | Run acc = 54.55% | Val loss =  164.35 | Val acc = 53.16% | 6.5s\n",
      "FB | Epoch 15/50: Run loss = 1318.33 | Run acc = 53.70% | Val loss =  167.60 | Val acc = 48.52% | 6.7s\n",
      "FB | Epoch 16/50: Run loss = 1313.14 | Run acc = 54.18% | Val loss =  167.41 | Val acc = 52.32% | 6.6s\n",
      "FB | Epoch 17/50: Run loss = 1358.37 | Run acc = 53.34% | Val loss =  164.48 | Val acc = 51.90% | 6.5s\n",
      "FB | Epoch 18/50: Run loss = 1313.98 | Run acc = 53.97% | Val loss =  170.62 | Val acc = 50.21% | 6.6s\n",
      "FB | Epoch 19/50: Run loss = 1308.91 | Run acc = 54.97% | Val loss =  171.63 | Val acc = 52.74% | 6.5s\n",
      "FB | Epoch 20/50: Run loss = 1312.24 | Run acc = 54.18% | Val loss =  163.91 | Val acc = 53.59% | 6.7s\n",
      "FB | Epoch 21/50: Run loss = 1308.96 | Run acc = 53.97% | Val loss =  174.61 | Val acc = 49.37% | 6.6s\n",
      "FB | Epoch 22/50: Run loss = 1307.39 | Run acc = 54.91% | Val loss =  166.57 | Val acc = 51.90% | 6.2s\n",
      "FB | Epoch 23/50: Run loss = 1310.85 | Run acc = 53.65% | Val loss =  163.62 | Val acc = 52.32% | 6.1s\n",
      "FB | Epoch 24/50: Run loss = 1310.78 | Run acc = 53.39% | Val loss =  164.15 | Val acc = 51.90% | 6.0s\n",
      "FB | Epoch 25/50: Run loss = 1315.23 | Run acc = 53.34% | Val loss =  164.17 | Val acc = 51.90% | 6.1s\n",
      "FB | Epoch 26/50: Run loss = 1315.15 | Run acc = 53.34% | Val loss =  164.19 | Val acc = 51.90% | 6.0s\n",
      "FB | Epoch 27/50: Run loss = 1317.33 | Run acc = 53.34% | Val loss =  164.64 | Val acc = 51.90% | 6.6s\n",
      "FB | Epoch 28/50: Run loss = 1317.48 | Run acc = 53.34% | Val loss =  164.15 | Val acc = 52.32% | 6.6s\n",
      "FB | Epoch 29/50: Run loss = 1315.45 | Run acc = 53.34% | Val loss =  164.20 | Val acc = 51.90% | 6.6s\n",
      "FB | Epoch 30/50: Run loss = 1315.40 | Run acc = 53.34% | Val loss =  164.20 | Val acc = 51.90% | 6.9s\n",
      "FB | Epoch 31/50: Run loss = 1315.38 | Run acc = 53.34% | Val loss =  164.20 | Val acc = 51.90% | 6.7s\n",
      "FB | Epoch 32/50: Run loss = 1315.36 | Run acc = 53.34% | Val loss =  164.19 | Val acc = 51.90% | 6.7s\n",
      "FB | Epoch 33/50: Run loss = 1315.35 | Run acc = 53.34% | Val loss =  164.19 | Val acc = 51.90% | 7.1s\n",
      "FB | Epoch 34/50: Run loss = 1315.35 | Run acc = 53.34% | Val loss =  164.19 | Val acc = 51.90% | 6.5s\n",
      "FB | Epoch 35/50: Run loss = 1315.35 | Run acc = 53.34% | Val loss =  164.19 | Val acc = 51.90% | 6.6s\n",
      "FB | Epoch 36/50: Run loss = 1315.34 | Run acc = 53.34% | Val loss =  164.19 | Val acc = 51.90% | 6.9s\n",
      "FB | Epoch 37/50: Run loss = 1315.34 | Run acc = 53.34% | Val loss =  164.19 | Val acc = 51.90% | 6.7s\n",
      "FB | Epoch 38/50: Run loss = 1315.34 | Run acc = 53.34% | Val loss =  164.19 | Val acc = 51.90% | 6.9s\n",
      "FB | Epoch 39/50: Run loss = 1315.34 | Run acc = 53.34% | Val loss =  164.19 | Val acc = 51.90% | 6.9s\n",
      "FB | Epoch 40/50: Run loss = 1315.34 | Run acc = 53.34% | Val loss =  164.19 | Val acc = 51.90% | 7.1s\n",
      "FB | Epoch 41/50: Run loss = 1315.33 | Run acc = 53.34% | Val loss =  164.19 | Val acc = 51.90% | 7.6s\n",
      "FB | Epoch 42/50: Run loss = 1315.33 | Run acc = 53.34% | Val loss =  164.19 | Val acc = 51.90% | 7.4s\n",
      "FB | Epoch 43/50: Run loss = 1315.33 | Run acc = 53.34% | Val loss =  164.19 | Val acc = 51.90% | 7.1s\n",
      "FB | Epoch 44/50: Run loss = 1315.33 | Run acc = 53.34% | Val loss =  164.19 | Val acc = 51.90% | 7.3s\n",
      "FB | Epoch 45/50: Run loss = 1315.32 | Run acc = 53.34% | Val loss =  164.19 | Val acc = 51.90% | 7.5s\n",
      "FB | Epoch 46/50: Run loss = 1315.32 | Run acc = 53.34% | Val loss =  164.19 | Val acc = 51.90% | 6.9s\n",
      "FB | Epoch 47/50: Run loss = 1315.32 | Run acc = 53.34% | Val loss =  164.19 | Val acc = 51.90% | 6.5s\n",
      "FB | Epoch 48/50: Run loss = 1315.32 | Run acc = 53.34% | Val loss =  164.19 | Val acc = 51.90% | 7.0s\n",
      "FB | Epoch 49/50: Run loss = 1315.31 | Run acc = 53.34% | Val loss =  164.19 | Val acc = 51.90% | 7.1s\n",
      "FB | Epoch 50/50: Run loss = 1315.31 | Run acc = 53.34% | Val loss =  164.19 | Val acc = 51.90% | 6.8s\n"
     ]
    }
   ],
   "source": [
    "train(\"FB\", epochs=50)"
   ]
  },
  {
   "cell_type": "code",
   "execution_count": 10,
   "metadata": {},
   "outputs": [
    {
     "name": "stdout",
     "output_type": "stream",
     "text": [
      "Threshold: 0.50 | Pass = 239/239\n",
      "Test acc = 48.95%\n",
      "F1 score: 0.66\n"
     ]
    },
    {
     "data": {
      "image/png": "[encoded data removed]",
      "text/plain": [
       "<Figure size 432x288 with 2 Axes>"
      ]
     },
     "metadata": {
      "needs_background": "light"
     },
     "output_type": "display_data"
    },
    {
     "data": {
      "image/png": "[encoded data removed]",
      "text/plain": [
       "<Figure size 432x432 with 1 Axes>"
      ]
     },
     "metadata": {
      "needs_background": "light"
     },
     "output_type": "display_data"
    },
    {
     "data": {
      "image/png": "[encoded data removed]",
      "text/plain": [
       "<Figure size 1152x576 with 1 Axes>"
      ]
     },
     "metadata": {
      "needs_background": "light"
     },
     "output_type": "display_data"
    },
    {
     "name": "stdout",
     "output_type": "stream",
     "text": [
      "Stock change: -39.69%\n",
      "Profit/Loss:  -39.69%\n"
     ]
    },
    {
     "data": {
      "image/png": "[encoded data removed]",
      "text/plain": [
       "<Figure size 432x288 with 1 Axes>"
      ]
     },
     "metadata": {
      "needs_background": "light"
     },
     "output_type": "display_data"
    },
    {
     "name": "stdout",
     "output_type": "stream",
     "text": [
      "Net PnL:      -0.00%\n"
     ]
    }
   ],
   "source": [
    "test(\"FB\")"
   ]
  }
 ],
 "metadata": {
  "interpreter": {
   "hash": "aee8b7b246df8f9039afb4144a1f6fd8d2ca17a180786b69acc140d282b71a49"
  },
  "kernelspec": {
   "display_name": "Python 3.9.0 64-bit",
   "language": "python",
   "name": "python3"
  },
  "language_info": {
   "codemirror_mode": {
    "name": "ipython",
    "version": 3
   },
   "file_extension": ".py",
   "mimetype": "text/x-python",
   "name": "python",
   "nbconvert_exporter": "python",
   "pygments_lexer": "ipython3",
   "version": "3.9.0"
  },
  "orig_nbformat": 4
 },
 "nbformat": 4,
 "nbformat_minor": 2
}
