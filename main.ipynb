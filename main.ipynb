{
 "cells": [
  {
   "cell_type": "markdown",
   "metadata": {},
   "source": [
    "Vesion 1: Predict the direction of price change on next day"
   ]
  },
  {
   "cell_type": "markdown",
   "metadata": {},
   "source": [
    "### 1. Preparation"
   ]
  },
  {
   "cell_type": "code",
   "execution_count": 680,
   "metadata": {},
   "outputs": [],
   "source": [
    "import os\n",
    "import numpy as np\n",
    "import pandas as pd\n",
    "import matplotlib.pyplot as plt\n",
    "import yfinance as yf\n",
    "\n",
    "import torch\n",
    "import torch.nn as nn\n",
    "import torch.nn.functional as F\n",
    "import torch.optim as optim\n",
    "from torchsummary import summary\n",
    "\n",
    "import time\n",
    "import random"
   ]
  },
  {
   "cell_type": "code",
   "execution_count": 668,
   "metadata": {},
   "outputs": [],
   "source": [
    "def setup_seed(seed):\n",
    "    torch.manual_seed(seed)\n",
    "    torch.cuda.manual_seed_all(seed)\n",
    "    np.random.seed(seed)\n",
    "    torch.backends.cudnn.deterministic = True\n",
    "\n",
    "setup_seed(42)"
   ]
  },
  {
   "cell_type": "markdown",
   "metadata": {},
   "source": [
    "### 2. Data Loading and Preprocessing"
   ]
  },
  {
   "cell_type": "code",
   "execution_count": 669,
   "metadata": {},
   "outputs": [],
   "source": [
    "def load_from_yf(ticker, period=\"10y\", interval=\"1d\"):\n",
    "    df: pd.DataFrame = yf.Ticker(ticker).history(period=period, interval=interval)\n",
    "    return df[[\"Open\", \"High\", \"Low\", \"Close\"]], df[[\"Volume\"]]"
   ]
  },
  {
   "cell_type": "code",
   "execution_count": 670,
   "metadata": {},
   "outputs": [],
   "source": [
    "def normalized(df):\n",
    "    return (df - df.mean()) / df.std()\n",
    "\n",
    "def denormalized(df, value):\n",
    "    return value * df.std() + df.mean()"
   ]
  },
  {
   "cell_type": "code",
   "execution_count": 671,
   "metadata": {},
   "outputs": [
    {
     "name": "stdout",
     "output_type": "stream",
     "text": [
      "Data size: 2517\n"
     ]
    },
    {
     "data": {
      "text/plain": [
       "'traindata = data[120 : 120+trainsize]\\nvaldata   = data[120+trainsize : 120+trainsize+valsize]\\ntestdata  = data[120+trainsize+valsize :]\\n\\nprint(\"Train size:\", len(traindata))\\nprint(\"Val size:  \", len(valdata))\\nprint(\"Test size: \", len(testdata))'"
      ]
     },
     "execution_count": 671,
     "metadata": {},
     "output_type": "execute_result"
    }
   ],
   "source": [
    "price, vol = load_from_yf(\"TSLA\")\n",
    "print(\"Data size:\", len(vol))\n",
    "\n",
    "n_price = normalized(np.log(price))\n",
    "n_vol = normalized(vol)\n",
    "\n",
    "trainsize = (int) ((len(vol) - 120) * 0.8)\n",
    "valsize = (int) ((len(vol) - 120) * 0.1)\n",
    "testsize = (len(vol) - 120) - trainsize - valsize\n",
    "\n",
    "data = np.concatenate([n_price, n_vol], axis=1)\n",
    "\"\"\"traindata = data[120 : 120+trainsize]\n",
    "valdata   = data[120+trainsize : 120+trainsize+valsize]\n",
    "testdata  = data[120+trainsize+valsize :]\n",
    "\n",
    "print(\"Train size:\", len(traindata))\n",
    "print(\"Val size:  \", len(valdata))\n",
    "print(\"Test size: \", len(testdata))\"\"\""
   ]
  },
  {
   "cell_type": "code",
   "execution_count": 672,
   "metadata": {},
   "outputs": [
    {
     "name": "stdout",
     "output_type": "stream",
     "text": [
      "Data ratio:  {0: 1140, 1: 1257}\n"
     ]
    },
    {
     "data": {
      "image/png": "[encoded data removed]",
      "text/plain": [
       "<Figure size 432x288 with 1 Axes>"
      ]
     },
     "metadata": {
      "needs_background": "light"
     },
     "output_type": "display_data"
    }
   ],
   "source": [
    "close = price[[\"Close\"]].to_numpy()\n",
    "\n",
    "change = []\n",
    "for i in range(len(close)):\n",
    "    change.append(0 if (i==0) else (close[i]-close[i-1])/close[i-1])\n",
    "    \n",
    "label = []\n",
    "for i in range(len(close)):\n",
    "    label.append(0 if change[i]<=0 else 1)\n",
    "\n",
    "trainlabel = label[120 : 120+trainsize]\n",
    "vallabel   = label[120+trainsize : 120+trainsize+valsize]\n",
    "testlabel  = label[120+trainsize+valsize : ]\n",
    "\n",
    "unique, counts = np.unique(label[120:], return_counts=True) \n",
    "print(\"Data ratio: \", dict(zip(unique, counts)))\n",
    "\n",
    "\"\"\"unique, counts = np.unique(trainlabel, return_counts=True) \n",
    "print(\"Train ratio: \", dict(zip(unique, counts)))\n",
    "unique, counts = np.unique(vallabel, return_counts=True) \n",
    "print(\"Val ratio:   \", dict(zip(unique, counts)))\n",
    "unique, counts = np.unique(testlabel, return_counts=True) \n",
    "print(\"Test ratio:  \", dict(zip(unique, counts)))\"\"\"\n",
    "\n",
    "\n",
    "plt.scatter(range(100), label[:100], s=1)\n",
    "plt.show()"
   ]
  },
  {
   "cell_type": "markdown",
   "metadata": {},
   "source": [
    "### 3. Models & Training"
   ]
  },
  {
   "cell_type": "code",
   "execution_count": 688,
   "metadata": {},
   "outputs": [
    {
     "name": "stdout",
     "output_type": "stream",
     "text": [
      "FCNet\n"
     ]
    }
   ],
   "source": [
    "class FCNet(nn.Module): # Doesn't work\n",
    "    def __init__(self):\n",
    "        super(FCNet, self).__init__()\n",
    "        self.fc1 = nn.Linear(in_features=600, out_features=600)\n",
    "        self.fc2 = nn.Linear(in_features=600, out_features=400)\n",
    "        self.fc3 = nn.Linear(in_features=400, out_features=20)\n",
    "        self.fc4 = nn.Linear(in_features=20, out_features=2)\n",
    "\n",
    "    def forward(self, input):\n",
    "        input = nn.Flatten()(input)\n",
    "        x = F.relu(self.fc1(input))\n",
    "        x = F.relu(self.fc2(x))\n",
    "        x = F.relu(self.fc3(x))\n",
    "        x = F.relu(self.fc4(x))\n",
    "        x = nn.Softmax()(x)\n",
    "        return x"
   ]
  },
  {
   "cell_type": "code",
   "execution_count": 674,
   "metadata": {},
   "outputs": [],
   "source": [
    "class LeNet(nn.Module):\n",
    "    def __init__(self):\n",
    "        super(LeNet, self).__init__() # 120\n",
    "        self.conv1 = nn.Conv1d(in_channels=5, out_channels=30, kernel_size=5) # 116\n",
    "        self.maxp1 = nn.MaxPool1d(kernel_size=2, stride=2) # 58\n",
    "        self.conv2 = nn.Conv1d(in_channels=30, out_channels=30, kernel_size=5) # 54\n",
    "        self.maxp2 = nn.MaxPool1d(kernel_size=2, stride=2) # 27\n",
    "        self.conv3 = nn.Conv1d(in_channels=30, out_channels=10, kernel_size=5) # 23\n",
    "        self.flatten = nn.Flatten()\n",
    "        self.relu1 = nn.ReLU()\n",
    "        self.fc1 = nn.Linear(in_features=230, out_features=20)\n",
    "        self.relu2 = nn.ReLU()\n",
    "        self.fc2 = nn.Linear(in_features=20, out_features=2)\n",
    "        self.softmax = nn.Softmax(dim=1)\n",
    "        \n",
    "    def forward(self, input):\n",
    "        x = self.maxp1(self.conv1(input))\n",
    "        x = self.maxp2(self.conv2(x))\n",
    "        x = self.flatten(self.conv3(x))\n",
    "        x = self.fc1(self.relu1(x))\n",
    "        x = self.fc2(self.relu2(x))\n",
    "        x = self.softmax(x)\n",
    "        return x"
   ]
  },
  {
   "cell_type": "code",
   "execution_count": 675,
   "metadata": {},
   "outputs": [],
   "source": [
    "class AdvLeNet(nn.Module):\n",
    "    def __init__(self):\n",
    "        super(AdvLeNet, self).__init__()\n",
    "        self.conv1 = nn.Conv1d(in_channels=5, out_channels=20, kernel_size=1)\n",
    "        self.conv2 = nn.Conv1d(in_channels=20, out_channels=20, kernel_size=5)\n",
    "        self.conv3 = nn.Conv1d(in_channels=20, out_channels=20, kernel_size=5)\n",
    "        self.fc1 = nn.Linear(in_features=2240, out_features=100)\n",
    "        self.fc2 = nn.Linear(in_features=100, out_features=100)\n",
    "        self.fc3 = nn.Linear(in_features=100, out_features=2)\n",
    "\n",
    "    def forward(self, input):\n",
    "        x = F.relu(self.conv1(input))\n",
    "        x = F.relu(self.conv2(x))\n",
    "        x = F.relu(self.conv3(x))\n",
    "        x = nn.Flatten()(x)\n",
    "        x = F.relu(self.fc1(x))\n",
    "        x = F.relu(self.fc2(x))\n",
    "        x = F.relu(self.fc3(x))\n",
    "        x = nn.Sigmoid()(x)\n",
    "        return x"
   ]
  },
  {
   "cell_type": "code",
   "execution_count": 676,
   "metadata": {},
   "outputs": [],
   "source": [
    "class ConcatNet(nn.Module):\n",
    "    def __init__(self):\n",
    "        super(ConcatNet, self).__init__() # 120\n",
    "        self.conv1 = nn.Conv1d(in_channels=5, out_channels=30, kernel_size=5) # 116\n",
    "        self.maxp1 = nn.AvgPool1d(kernel_size=2, stride=2) # 58\n",
    "        self.conv2 = nn.Conv1d(in_channels=30, out_channels=30, kernel_size=5) # 54\n",
    "        self.maxp2 = nn.AvgPool1d(kernel_size=2, stride=2) # 27\n",
    "        self.conv3 = nn.Conv1d(in_channels=30, out_channels=10, kernel_size=5) # 23\n",
    "        \n",
    "        self.dconv = nn.Conv1d(in_channels=5, out_channels=10, kernel_size=1) # 20\n",
    "\n",
    "        self.fc1 = nn.Linear(in_features=450, out_features=100)\n",
    "        self.fc2 = nn.Linear(in_features=100, out_features=20)\n",
    "        self.fc3 = nn.Linear(in_features=20, out_features=2)\n",
    "\n",
    "    def forward(self, input):\n",
    "        x1 = F.relu(self.maxp1(self.conv1(input)))\n",
    "        x1 = F.relu(self.maxp2(self.conv2(x1)))\n",
    "        x1 = nn.Flatten()(F.relu(self.conv3(x1))) # 230\n",
    "\n",
    "        x2 = nn.Flatten()(F.relu(self.dconv(input[:,:,100:120]))) # 200\n",
    "\n",
    "        x3 = nn.Flatten()(input[:,3,100:120]) # 20\n",
    "    \n",
    "        x = torch.cat((x1, x2, x3), dim=1)\n",
    "        x = F.relu(F.dropout(self.fc1(x)))\n",
    "        x = F.relu(self.fc2(x))\n",
    "        x = nn.Sigmoid()(self.fc3(x))\n",
    "        return x"
   ]
  },
  {
   "cell_type": "markdown",
   "metadata": {},
   "source": [
    "**Hyperparameters**"
   ]
  },
  {
   "cell_type": "code",
   "execution_count": 677,
   "metadata": {},
   "outputs": [],
   "source": [
    "net = ConcatNet()\n",
    "\n",
    "criterion = nn.CrossEntropyLoss()\n",
    "optimizer = optim.Adam(net.parameters())\n",
    "\n",
    "epochs = 30"
   ]
  },
  {
   "cell_type": "code",
   "execution_count": 678,
   "metadata": {},
   "outputs": [
    {
     "name": "stdout",
     "output_type": "stream",
     "text": [
      "----------------------------------------------------------------\n",
      "        Layer (type)               Output Shape         Param #\n",
      "================================================================\n",
      "            Conv1d-1              [-1, 30, 116]             780\n",
      "         AvgPool1d-2               [-1, 30, 58]               0\n",
      "            Conv1d-3               [-1, 30, 54]           4,530\n",
      "         AvgPool1d-4               [-1, 30, 27]               0\n",
      "            Conv1d-5               [-1, 10, 23]           1,510\n",
      "            Conv1d-6               [-1, 10, 20]              60\n",
      "            Linear-7                  [-1, 100]          45,100\n",
      "            Linear-8                   [-1, 20]           2,020\n",
      "            Linear-9                    [-1, 2]              42\n",
      "================================================================\n",
      "Total params: 54,042\n",
      "Trainable params: 54,042\n",
      "Non-trainable params: 0\n",
      "----------------------------------------------------------------\n",
      "Input size (MB): 0.00\n",
      "Forward/backward pass size (MB): 0.06\n",
      "Params size (MB): 0.21\n",
      "Estimated Total Size (MB): 0.27\n",
      "----------------------------------------------------------------\n",
      "None\n"
     ]
    }
   ],
   "source": [
    "print(summary(net, (5, 120)))"
   ]
  },
  {
   "cell_type": "markdown",
   "metadata": {},
   "source": [
    "**Training**"
   ]
  },
  {
   "cell_type": "code",
   "execution_count": 679,
   "metadata": {},
   "outputs": [
    {
     "name": "stdout",
     "output_type": "stream",
     "text": [
      "Epoch  1/30 | Train loss: 1213.41 | Train acc: 51.60%| Test avg loss:  211.98 | Test acc: 53.67% | 6.24s\n",
      "Epoch  2/30 | Train loss: 1301.67 | Train acc: 53.00%| Test avg loss:  205.98 | Test acc: 58.33% | 6.82s\n",
      "Epoch  3/30 | Train loss: 1350.35 | Train acc: 53.00%| Test avg loss:  207.27 | Test acc: 52.00% | 7.56s\n",
      "Epoch  4/30 | Train loss: 1086.81 | Train acc: 52.00%| Test avg loss:  206.18 | Test acc: 56.00% | 6.48s\n",
      "Epoch  5/30 | Train loss: 1439.43 | Train acc: 52.45%| Test avg loss:  208.29 | Test acc: 53.67% | 6.32s\n",
      "Epoch  6/30 | Train loss: 1218.00 | Train acc: 52.25%| Test avg loss:  206.40 | Test acc: 56.00% | 6.63s\n",
      "Epoch  7/30 | Train loss: 1279.18 | Train acc: 52.10%| Test avg loss:  206.08 | Test acc: 56.00% | 6.14s\n",
      "Epoch  8/30 | Train loss: 1347.87 | Train acc: 52.10%| Test avg loss:  206.81 | Test acc: 56.00% | 6.42s\n",
      "Epoch  9/30 | Train loss: 1223.28 | Train acc: 52.05%| Test avg loss:  207.23 | Test acc: 56.00% | 6.39s\n",
      "Epoch 10/30 | Train loss: 1260.49 | Train acc: 52.50%| Test avg loss:  208.12 | Test acc: 54.33% | 6.56s\n",
      "Epoch 11/30 | Train loss: 1132.34 | Train acc: 53.45%| Test avg loss:  206.87 | Test acc: 54.67% | 6.33s\n",
      "Epoch 12/30 | Train loss: 1026.85 | Train acc: 55.25%| Test avg loss:  209.88 | Test acc: 54.67% | 6.88s\n"
     ]
    },
    {
     "ename": "KeyboardInterrupt",
     "evalue": "",
     "output_type": "error",
     "traceback": [
      "\u001b[0;31m---------------------------------------------------------------------------\u001b[0m",
      "\u001b[0;31mKeyboardInterrupt\u001b[0m                         Traceback (most recent call last)",
      "\u001b[0;32m/var/folders/t4/wd9y25w92q9g1cjxmkx08vpm0000gp/T/ipykernel_23105/3436935.py\u001b[0m in \u001b[0;36m<module>\u001b[0;34m\u001b[0m\n\u001b[1;32m     13\u001b[0m         \u001b[0mloss\u001b[0m \u001b[0;34m=\u001b[0m \u001b[0mcriterion\u001b[0m\u001b[0;34m(\u001b[0m\u001b[0moutput\u001b[0m\u001b[0;34m,\u001b[0m \u001b[0mtarget\u001b[0m\u001b[0;34m)\u001b[0m\u001b[0;34m\u001b[0m\u001b[0;34m\u001b[0m\u001b[0m\n\u001b[1;32m     14\u001b[0m         \u001b[0mloss\u001b[0m\u001b[0;34m.\u001b[0m\u001b[0mbackward\u001b[0m\u001b[0;34m(\u001b[0m\u001b[0;34m)\u001b[0m\u001b[0;34m\u001b[0m\u001b[0;34m\u001b[0m\u001b[0m\n\u001b[0;32m---> 15\u001b[0;31m         \u001b[0moptimizer\u001b[0m\u001b[0;34m.\u001b[0m\u001b[0mstep\u001b[0m\u001b[0;34m(\u001b[0m\u001b[0;34m)\u001b[0m\u001b[0;34m\u001b[0m\u001b[0;34m\u001b[0m\u001b[0m\n\u001b[0m\u001b[1;32m     16\u001b[0m \u001b[0;34m\u001b[0m\u001b[0m\n\u001b[1;32m     17\u001b[0m     \u001b[0mtrainloss\u001b[0m \u001b[0;34m=\u001b[0m \u001b[0;36m0\u001b[0m\u001b[0;34m\u001b[0m\u001b[0;34m\u001b[0m\u001b[0m\n",
      "\u001b[0;32m/Library/Frameworks/Python.framework/Versions/3.9/lib/python3.9/site-packages/torch/optim/optimizer.py\u001b[0m in \u001b[0;36mwrapper\u001b[0;34m(*args, **kwargs)\u001b[0m\n\u001b[1;32m     86\u001b[0m                 \u001b[0mprofile_name\u001b[0m \u001b[0;34m=\u001b[0m \u001b[0;34m\"Optimizer.step#{}.step\"\u001b[0m\u001b[0;34m.\u001b[0m\u001b[0mformat\u001b[0m\u001b[0;34m(\u001b[0m\u001b[0mobj\u001b[0m\u001b[0;34m.\u001b[0m\u001b[0m__class__\u001b[0m\u001b[0;34m.\u001b[0m\u001b[0m__name__\u001b[0m\u001b[0;34m)\u001b[0m\u001b[0;34m\u001b[0m\u001b[0;34m\u001b[0m\u001b[0m\n\u001b[1;32m     87\u001b[0m                 \u001b[0;32mwith\u001b[0m \u001b[0mtorch\u001b[0m\u001b[0;34m.\u001b[0m\u001b[0mautograd\u001b[0m\u001b[0;34m.\u001b[0m\u001b[0mprofiler\u001b[0m\u001b[0;34m.\u001b[0m\u001b[0mrecord_function\u001b[0m\u001b[0;34m(\u001b[0m\u001b[0mprofile_name\u001b[0m\u001b[0;34m)\u001b[0m\u001b[0;34m:\u001b[0m\u001b[0;34m\u001b[0m\u001b[0;34m\u001b[0m\u001b[0m\n\u001b[0;32m---> 88\u001b[0;31m                     \u001b[0;32mreturn\u001b[0m \u001b[0mfunc\u001b[0m\u001b[0;34m(\u001b[0m\u001b[0;34m*\u001b[0m\u001b[0margs\u001b[0m\u001b[0;34m,\u001b[0m \u001b[0;34m**\u001b[0m\u001b[0mkwargs\u001b[0m\u001b[0;34m)\u001b[0m\u001b[0;34m\u001b[0m\u001b[0;34m\u001b[0m\u001b[0m\n\u001b[0m\u001b[1;32m     89\u001b[0m             \u001b[0;32mreturn\u001b[0m \u001b[0mwrapper\u001b[0m\u001b[0;34m\u001b[0m\u001b[0;34m\u001b[0m\u001b[0m\n\u001b[1;32m     90\u001b[0m \u001b[0;34m\u001b[0m\u001b[0m\n",
      "\u001b[0;32m/Library/Frameworks/Python.framework/Versions/3.9/lib/python3.9/site-packages/torch/autograd/grad_mode.py\u001b[0m in \u001b[0;36mdecorate_context\u001b[0;34m(*args, **kwargs)\u001b[0m\n\u001b[1;32m     26\u001b[0m         \u001b[0;32mdef\u001b[0m \u001b[0mdecorate_context\u001b[0m\u001b[0;34m(\u001b[0m\u001b[0;34m*\u001b[0m\u001b[0margs\u001b[0m\u001b[0;34m,\u001b[0m \u001b[0;34m**\u001b[0m\u001b[0mkwargs\u001b[0m\u001b[0;34m)\u001b[0m\u001b[0;34m:\u001b[0m\u001b[0;34m\u001b[0m\u001b[0;34m\u001b[0m\u001b[0m\n\u001b[1;32m     27\u001b[0m             \u001b[0;32mwith\u001b[0m \u001b[0mself\u001b[0m\u001b[0;34m.\u001b[0m\u001b[0m__class__\u001b[0m\u001b[0;34m(\u001b[0m\u001b[0;34m)\u001b[0m\u001b[0;34m:\u001b[0m\u001b[0;34m\u001b[0m\u001b[0;34m\u001b[0m\u001b[0m\n\u001b[0;32m---> 28\u001b[0;31m                 \u001b[0;32mreturn\u001b[0m \u001b[0mfunc\u001b[0m\u001b[0;34m(\u001b[0m\u001b[0;34m*\u001b[0m\u001b[0margs\u001b[0m\u001b[0;34m,\u001b[0m \u001b[0;34m**\u001b[0m\u001b[0mkwargs\u001b[0m\u001b[0;34m)\u001b[0m\u001b[0;34m\u001b[0m\u001b[0;34m\u001b[0m\u001b[0m\n\u001b[0m\u001b[1;32m     29\u001b[0m         \u001b[0;32mreturn\u001b[0m \u001b[0mcast\u001b[0m\u001b[0;34m(\u001b[0m\u001b[0mF\u001b[0m\u001b[0;34m,\u001b[0m \u001b[0mdecorate_context\u001b[0m\u001b[0;34m)\u001b[0m\u001b[0;34m\u001b[0m\u001b[0;34m\u001b[0m\u001b[0m\n\u001b[1;32m     30\u001b[0m \u001b[0;34m\u001b[0m\u001b[0m\n",
      "\u001b[0;32m/Library/Frameworks/Python.framework/Versions/3.9/lib/python3.9/site-packages/torch/optim/adam.py\u001b[0m in \u001b[0;36mstep\u001b[0;34m(self, closure)\u001b[0m\n\u001b[1;32m     99\u001b[0m             \u001b[0mmax_exp_avg_sqs\u001b[0m \u001b[0;34m=\u001b[0m \u001b[0;34m[\u001b[0m\u001b[0;34m]\u001b[0m\u001b[0;34m\u001b[0m\u001b[0;34m\u001b[0m\u001b[0m\n\u001b[1;32m    100\u001b[0m             \u001b[0mstate_steps\u001b[0m \u001b[0;34m=\u001b[0m \u001b[0;34m[\u001b[0m\u001b[0;34m]\u001b[0m\u001b[0;34m\u001b[0m\u001b[0;34m\u001b[0m\u001b[0m\n\u001b[0;32m--> 101\u001b[0;31m             \u001b[0mbeta1\u001b[0m\u001b[0;34m,\u001b[0m \u001b[0mbeta2\u001b[0m \u001b[0;34m=\u001b[0m \u001b[0mgroup\u001b[0m\u001b[0;34m[\u001b[0m\u001b[0;34m'betas'\u001b[0m\u001b[0;34m]\u001b[0m\u001b[0;34m\u001b[0m\u001b[0;34m\u001b[0m\u001b[0m\n\u001b[0m\u001b[1;32m    102\u001b[0m \u001b[0;34m\u001b[0m\u001b[0m\n\u001b[1;32m    103\u001b[0m             \u001b[0;32mfor\u001b[0m \u001b[0mp\u001b[0m \u001b[0;32min\u001b[0m \u001b[0mgroup\u001b[0m\u001b[0;34m[\u001b[0m\u001b[0;34m'params'\u001b[0m\u001b[0;34m]\u001b[0m\u001b[0;34m:\u001b[0m\u001b[0;34m\u001b[0m\u001b[0;34m\u001b[0m\u001b[0m\n",
      "\u001b[0;31mKeyboardInterrupt\u001b[0m: "
     ]
    }
   ],
   "source": [
    "trainlosslist, trainacclist = [], []\n",
    "testlosslist, testacclist = [], []\n",
    "for epoch in range(epochs):\n",
    "    epochstart = time.time()\n",
    "\n",
    "    for i in range(trainsize):\n",
    "        step_start = time.time()\n",
    "        optimizer.zero_grad()\n",
    "\n",
    "        input = torch.tensor([data[i:i+120]]).float().permute(0,2,1)\n",
    "        target = torch.tensor([label[i+120]])\n",
    "        output = net(input)\n",
    "        loss = criterion(output, target)\n",
    "        loss.backward()\n",
    "        optimizer.step()  \n",
    "\n",
    "    trainloss = 0\n",
    "    traincorrect = 0\n",
    "    with torch.no_grad():\n",
    "        for i in range(2000):\n",
    "            input = torch.tensor([data[i:i+120]]).float().permute(0,2,1)\n",
    "            target = torch.tensor([label[i+120]])\n",
    "            output = net(input)\n",
    "            _, predicted = torch.max(output.data, 1)\n",
    "\n",
    "            trainloss += loss.item()\n",
    "            traincorrect += (predicted == target).sum().item()\n",
    "    trainlosslist.append(trainloss)\n",
    "    trainacclist.append(traincorrect/20)\n",
    "    \n",
    "    testloss = 0\n",
    "    testcorrect = 0\n",
    "    with torch.no_grad():\n",
    "        for i in range(trainsize, trainsize+valsize):\n",
    "            input = torch.tensor([data[i:i+120]]).float().permute(0,2,1)\n",
    "            target = torch.tensor([label[i+120]])\n",
    "            output = net(input)\n",
    "            loss = criterion(output, target)\n",
    "            _, predicted = torch.max(output.data, 1)\n",
    "\n",
    "            testloss += loss.item()\n",
    "            testcorrect += (predicted == target).sum().item()\n",
    "    testlosslist.append(testloss)\n",
    "    testacclist.append(testcorrect/3)\n",
    "\n",
    "    epochtime = time.time() - epochstart\n",
    "    print(f\"Epoch {epoch+1:2d}/{epochs} | Train loss: {(trainloss):7.2f} | Train acc: {(traincorrect/trainsize*100):5.2f}%\"\n",
    "                                      f\"| Test avg loss: {(testloss):7.2f} | Test acc: {(testcorrect/valsize*100):5.2f}% | {epochtime:.2f}s\")\n",
    "\n",
    "plt.figure(figsize=(15,3))\n",
    "plt.title(\"Train Loss\")\n",
    "plt.plot(trainlosslist, label=\"train loss\")\n",
    "plt.show()\n",
    "\n",
    "plt.figure(figsize=(15,3))\n",
    "plt.title(\"Test Loss\")\n",
    "plt.plot(testlosslist, label=\"test loss\")\n",
    "plt.show()\n",
    "\n",
    "plt.figure(figsize=(15, 3))\n",
    "plt.title(\"Accuracy\")\n",
    "plt.plot(trainacclist, label=\"train acc\")\n",
    "plt.plot(testacclist, label=\"test acc\")\n",
    "plt.legend(loc=\"upper right\")\n",
    "plt.show()"
   ]
  },
  {
   "cell_type": "markdown",
   "metadata": {},
   "source": [
    "### 4. Evaluation"
   ]
  },
  {
   "cell_type": "code",
   "execution_count": null,
   "metadata": {},
   "outputs": [
    {
     "name": "stdout",
     "output_type": "stream",
     "text": [
      "Size: 300\n",
      "Accuracy: 54.67%\n",
      "\n"
     ]
    },
    {
     "data": {
      "image/png": "[encoded data removed]",
      "text/plain": [
       "<Figure size 1296x432 with 1 Axes>"
      ]
     },
     "metadata": {
      "needs_background": "light"
     },
     "output_type": "display_data"
    }
   ],
   "source": [
    "correct = 0\n",
    "size = 0\n",
    "prediction = []\n",
    "correct_flag = []\n",
    "with torch.no_grad():\n",
    "    for i in range(trainsize+valsize, trainsize+valsize+testsize):\n",
    "        input = torch.tensor([data[i:i+120]]).float().permute(0,2,1)\n",
    "        target = torch.tensor([label[i+120]])\n",
    "        output = net(input)\n",
    "        _, predicted = torch.max(output.data, 1)\n",
    "        if _.item() > 0:\n",
    "            prediction.append(predicted.item())\n",
    "            correct += (predicted == target).sum().item()\n",
    "            size += 1\n",
    "            correct_flag.append((predicted == target).sum().item())\n",
    "        \n",
    "print(f\"Size: {size}\")\n",
    "print(f\"Accuracy: {(correct/size*100):.2f}%\\n\")        \n",
    "\n",
    "from sklearn.metrics import confusion_matrix\n",
    "confusion_matrix(label[2120:2120+size], prediction)\n",
    "\n",
    "plt.figure(figsize=(18,6))\n",
    "plt.scatter(list(range(size)), correct_flag, s=1)\n",
    "plt.scatter(list(range(size)), label[2000:2000+size], s=1)\n",
    "plt.show()"
   ]
  },
  {
   "cell_type": "code",
   "execution_count": null,
   "metadata": {},
   "outputs": [
    {
     "data": {
      "image/png": "[encoded data removed]",
      "text/plain": [
       "<Figure size 432x288 with 1 Axes>"
      ]
     },
     "metadata": {
      "needs_background": "light"
     },
     "output_type": "display_data"
    }
   ],
   "source": [
    "plt.plot(prediction)\n",
    "plt.show()"
   ]
  }
 ],
 "metadata": {
  "interpreter": {
   "hash": "aee8b7b246df8f9039afb4144a1f6fd8d2ca17a180786b69acc140d282b71a49"
  },
  "kernelspec": {
   "display_name": "Python 3.9.0 64-bit",
   "language": "python",
   "name": "python3"
  },
  "language_info": {
   "codemirror_mode": {
    "name": "ipython",
    "version": 3
   },
   "file_extension": ".py",
   "mimetype": "text/x-python",
   "name": "python",
   "nbconvert_exporter": "python",
   "pygments_lexer": "ipython3",
   "version": "3.9.0"
  },
  "orig_nbformat": 4
 },
 "nbformat": 4,
 "nbformat_minor": 2
}
